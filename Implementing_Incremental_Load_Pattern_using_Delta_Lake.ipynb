{
  "nbformat": 4,
  "nbformat_minor": 0,
  "metadata": {
    "colab": {
      "provenance": []
    },
    "kernelspec": {
      "name": "python3",
      "display_name": "Python 3"
    },
    "language_info": {
      "name": "python"
    }
  },
  "cells": [
    {
      "cell_type": "code",
      "execution_count": 1,
      "metadata": {
        "colab": {
          "base_uri": "https://localhost:8080/"
        },
        "id": "jEsz1k-WaaOn",
        "outputId": "69511f09-1665-479d-ed22-2cb34771acc5"
      },
      "outputs": [
        {
          "output_type": "stream",
          "name": "stdout",
          "text": [
            "Collecting pyspark\n",
            "  Downloading pyspark-3.5.2.tar.gz (317.3 MB)\n",
            "\u001b[2K     \u001b[90m━━━━━━━━━━━━━━━━━━━━━━━━━━━━━━━━━━━━━━━━\u001b[0m \u001b[32m317.3/317.3 MB\u001b[0m \u001b[31m4.3 MB/s\u001b[0m eta \u001b[36m0:00:00\u001b[0m\n",
            "\u001b[?25h  Preparing metadata (setup.py) ... \u001b[?25l\u001b[?25hdone\n",
            "Requirement already satisfied: py4j==0.10.9.7 in /usr/local/lib/python3.10/dist-packages (from pyspark) (0.10.9.7)\n",
            "Building wheels for collected packages: pyspark\n",
            "  Building wheel for pyspark (setup.py) ... \u001b[?25l\u001b[?25hdone\n",
            "  Created wheel for pyspark: filename=pyspark-3.5.2-py2.py3-none-any.whl size=317812365 sha256=8829810064f65362440de41c70fb9c8a8d931b88f0369d98191285bfdf4f74f9\n",
            "  Stored in directory: /root/.cache/pip/wheels/34/34/bd/03944534c44b677cd5859f248090daa9fb27b3c8f8e5f49574\n",
            "Successfully built pyspark\n",
            "Installing collected packages: pyspark\n",
            "Successfully installed pyspark-3.5.2\n"
          ]
        }
      ],
      "source": [
        "!pip install pyspark"
      ]
    },
    {
      "cell_type": "code",
      "source": [
        "# Exercise 4: Implementing Incremental Load Pattern using Delta Lake\n",
        "from pyspark.sql import SparkSession\n",
        "from pyspark.sql.types import StructType, StructField, StringType, IntegerType, DateType\n",
        "\n",
        "spark = SparkSession.builder.appName(\"IncrementalLoadExample\").getOrCreate()\n",
        "\n",
        "# Define schema for transactions\n",
        "schema = StructType([\n",
        "    StructField(\"TransactionID\", IntegerType(), True),\n",
        "    StructField(\"TransactionDate\", DateType(), True),\n",
        "    StructField(\"CustomerID\", StringType(), True),\n",
        "    StructField(\"Product\", StringType(), True),\n",
        "    StructField(\"Quantity\", IntegerType(), True),\n",
        "    StructField(\"Price\", IntegerType(), True)\n",
        "])\n",
        "\n",
        "# Initial data (first three days)\n",
        "initial_data = [\n",
        "    (1, \"2024-09-01\", \"C001\", \"Laptop\", 1, 1200),\n",
        "    (2, \"2024-09-02\", \"C002\", \"Tablet\", 2, 300),\n",
        "    (3, \"2024-09-03\", \"C001\", \"Headphones\", 5, 50)\n",
        "]\n",
        "\n",
        "initial_df = spark.createDataFrame(initial_data, schema)\n",
        "\n",
        "# Write initial data to Delta table\n",
        "initial_df.write.format(\"delta\").mode(\"overwrite\").save(\"/content/sample_data/delta/final_transactions\")\n"
      ],
      "metadata": {
        "id": "LJgrC1f1bUhV"
      },
      "execution_count": null,
      "outputs": []
    },
    {
      "cell_type": "code",
      "source": [
        "# 2. Set Up Incremental Data\n",
        "incremental_data = [\n",
        "    (4, \"2024-09-04\", \"C003\", \"Smartphone\", 1, 800),\n",
        "    (5, \"2024-09-05\", \"C004\", \"Smartwatch\", 3, 200),\n",
        "    (6, \"2024-09-06\", \"C005\", \"Keyboard\", 4, 100),\n",
        "    (7, \"2024-09-07\", \"C006\", \"Mouse\", 10, 20)\n",
        "]\n",
        "\n",
        "incremental_df = spark.createDataFrame(incremental_data, schema)\n",
        "\n",
        "# Append the new transactions to the Delta table\n",
        "incremental_df.write.format(\"delta\").mode(\"append\").save(\"/content/sample_data/delta/final_transactions\")\n"
      ],
      "metadata": {
        "id": "gH9bipgsbbZ0"
      },
      "execution_count": null,
      "outputs": []
    },
    {
      "cell_type": "code",
      "source": [
        "# 3. Implement Incremental Load\n",
        "# Read new transactions only (after 2024-09-03)\n",
        "latest_date = \"2024-09-03\"\n",
        "new_transactions_df = incremental_df.filter(f\"TransactionDate > '{latest_date}'\")\n",
        "\n",
        "# Append new transactions to the Delta table\n",
        "new_transactions_df.write.format(\"delta\").mode(\"append\").save(\"/content/sample_data/delta/final_transactions\")\n"
      ],
      "metadata": {
        "id": "wSbkNo3Cbdv0"
      },
      "execution_count": null,
      "outputs": []
    },
    {
      "cell_type": "code",
      "source": [
        "# 4. Monitor Incremental Load\n",
        "# View the Delta table history\n",
        "history_df = spark.sql(\"DESCRIBE HISTORY delta.`/content/sample_data/delta/final_transactions`\")\n",
        "history_df.show(truncate=False)\n",
        "\n",
        "# Verify the contents of the Delta table\n",
        "final_df = spark.read.format(\"delta\").load(\"/content/sample_data/delta/final_transactions\")\n",
        "final_df.show()\n"
      ],
      "metadata": {
        "id": "3rXe9xGHbhTv"
      },
      "execution_count": null,
      "outputs": []
    }
  ]
}