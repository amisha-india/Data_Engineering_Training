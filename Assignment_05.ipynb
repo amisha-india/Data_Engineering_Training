{
  "nbformat": 4,
  "nbformat_minor": 0,
  "metadata": {
    "colab": {
      "provenance": []
    },
    "kernelspec": {
      "name": "python3",
      "display_name": "Python 3"
    },
    "language_info": {
      "name": "python"
    }
  },
  "cells": [
    {
      "cell_type": "code",
      "execution_count": null,
      "metadata": {
        "id": "fFXqGZetHXs1"
      },
      "outputs": [],
      "source": [
        "#Task 1 Data Ingession\n",
        "import logging\n",
        "from pyspark.sql import SparkSession\n",
        "spark = SparkSession.builder.appName(\"EmployeeAttendance\").getOrCreate()\n",
        "logging.basicConfig(filename='/content/sample_data/logs/attendance_log.log', level=logging.INFO)\n",
        "csv_file_path = \"/content/sample_data/employee_attendance.csv\"\n",
        "\n",
        "try:\n",
        "    attendance_df = spark.read.option(\"header\", \"true\").csv(csv_file_path)\n",
        "    attendance_df.write.format(\"delta\").mode(\"overwrite\").save(\"/content/sample_data/delta/employee_attendance_raw\")\n",
        "\n",
        "    logging.info(\"Employee attendance data ingested successfully.\")\n",
        "\n",
        "except Exception as e:\n",
        "    logging.error(f\"Error ingesting data: {str(e)}\")\n",
        "    print(f\"Error: {str(e)}\")\n"
      ]
    },
    {
      "cell_type": "code",
      "source": [
        "#Task 2 Data Cleaning\n",
        "from pyspark.sql.functions import col, unix_timestamp, round\n",
        "attendance_df = spark.read.format(\"delta\").load(\"/content/sample_data/delta/employee_attendance_raw\")\n",
        "\n",
        "cleaned_df = attendance_df.filter(col(\"CheckInTime\").isNotNull() & col(\"CheckOutTime\").isNotNull())\n",
        "cleaned_df = cleaned_df.withColumn(\n",
        "    \"HoursWorked\",\n",
        "    round((unix_timestamp(col(\"CheckOutTime\"), \"HH:mm\") - unix_timestamp(col(\"CheckInTime\"), \"HH:mm\")) / 3600, 2)\n",
        ")\n",
        "cleaned_df.write.format(\"delta\").mode(\"overwrite\").save(\"/content/sample_data/delta/employee_attendance_cleaned\")\n",
        "\n",
        "print(\"Employee attendance cleaning completed successfully.\")\n"
      ],
      "metadata": {
        "id": "IFPcs7OsHeBU"
      },
      "execution_count": null,
      "outputs": []
    },
    {
      "cell_type": "code",
      "source": [
        "#Task 3 Attendance Summary\n",
        "from pyspark.sql.functions import sum\n",
        "cleaned_df = spark.read.format(\"delta\").load(\"/content/sample_data/delta/employee_attendance_cleaned\")\n",
        "\n",
        "attendance_summary = cleaned_df.groupBy(\"EmployeeID\").agg(sum(\"HoursWorked\").alias(\"TotalHoursWorked\"))\n",
        "overtime_df = cleaned_df.filter(col(\"HoursWorked\") > 8).select(\"EmployeeID\", \"Date\", \"HoursWorked\")\n",
        "\n",
        "attendance_summary.write.format(\"delta\").mode(\"overwrite\").save(\"/content/sample_data/delta/employee_attendance_summary\")\n",
        "overtime_df.write.format(\"delta\").mode(\"overwrite\").save(\"/content/sample_data/delta/employee_overtime_summary\")\n",
        "\n",
        "logging.info(\"Employee attendance summary and overtime analysis completed.\")\n"
      ],
      "metadata": {
        "id": "CvL_qRnZHm7S"
      },
      "execution_count": null,
      "outputs": []
    },
    {
      "cell_type": "code",
      "source": [
        "#Task 4 Create an Attendance Pipeline\n",
        "from pyspark.sql import SparkSession\n",
        "from pyspark.sql.functions import col, unix_timestamp, sum\n",
        "\n",
        "spark = SparkSession.builder.appName(\"EmployeeAttendancePipeline\").getOrCreate()\n",
        "\n",
        "def attendance_pipeline():\n",
        "    try:\n",
        "\n",
        "        attendance_df = spark.read.option(\"header\", \"true\").csv(\"/content/sample_data/employee_attendance.csv\")\n",
        "        attendance_df.write.format(\"delta\").mode(\"overwrite\").save(\"/content/sample_data/delta/attendance\")\n",
        "        cleaned_df = attendance_df.filter(col(\"CheckInTime\").isNotNull() & col(\"CheckOutTime\").isNotNull())\n",
        "\n",
        "        cleaned_df = cleaned_df.withColumn(\n",
        "            \"HoursWorked\",\n",
        "            (unix_timestamp(col(\"CheckOutTime\"), 'HH:mm') - unix_timestamp(col(\"CheckInTime\"), 'HH:mm')) / 3600\n",
        "        )\n",
        "        cleaned_df.write.format(\"delta\").mode(\"overwrite\").save(\"/content/sample_data/delta/cleaned_attendance\")\n",
        "        monthly_summary_df = cleaned_df.groupBy(\"EmployeeID\").agg(sum(\"HoursWorked\").alias(\"TotalHoursWorked\"))\n",
        "        overtime_df = cleaned_df.filter(col(\"HoursWorked\") > 8)\n",
        "\n",
        "        monthly_summary_df.write.format(\"delta\").mode(\"overwrite\").save(\"/content/sample_data/delta/attendance_summary\")\n",
        "        overtime_df.write.format(\"delta\").mode(\"overwrite\").save(\"/content/sample_data/delta/overtime_summary\")\n",
        "\n",
        "        print(\"Attendance pipeline completed successfully.\")\n",
        "\n",
        "    except FileNotFoundError:\n",
        "        print(\"CSV file is missing.\")\n",
        "    except Exception as e:\n",
        "        print(f\"Error in pipeline: {e}\")\n",
        "\n",
        "attendance_pipeline()\n",
        "\n"
      ],
      "metadata": {
        "id": "_NUhKVOTHuXl"
      },
      "execution_count": null,
      "outputs": []
    },
    {
      "cell_type": "code",
      "source": [
        "# Task-05\n",
        "\n",
        "attendance_df = spark.read.format(\"delta\").option(\"versionAsOf\", 1).load(\"/content/sample_data/delta/employee_attendance_cleaned\")\n",
        "\n",
        "spark.sql(\"DESCRIBE HISTORY '/content/sample_data/delta/employee_attendance_cleaned'\").show()\n"
      ],
      "metadata": {
        "id": "selxOxL9H9ni"
      },
      "execution_count": null,
      "outputs": []
    }
  ]
}