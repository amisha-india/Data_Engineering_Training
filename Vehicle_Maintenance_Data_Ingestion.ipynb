{
  "nbformat": 4,
  "nbformat_minor": 0,
  "metadata": {
    "colab": {
      "provenance": []
    },
    "kernelspec": {
      "name": "python3",
      "display_name": "Python 3"
    },
    "language_info": {
      "name": "python"
    }
  },
  "cells": [
    {
      "cell_type": "code",
      "execution_count": null,
      "metadata": {
        "id": "wO1yQ0hjTDUz"
      },
      "outputs": [],
      "source": [
        "# Task 1: Vehicle Maintenance Data Ingestion\n",
        "from pyspark.sql import SparkSession\n",
        "from pyspark.sql.functions import col\n",
        "\n",
        "\n",
        "spark = SparkSession.builder.appName(\"VehicleMaintenance\").getOrCreate()\n",
        "\n",
        "\n",
        "file_path = \"dbfs:/FileStore/vehicle_maintenance.csv\"\n",
        "\n",
        "try:\n",
        "\n",
        "    df = spark.read.option(\"header\", \"true\").csv(file_path)\n",
        "\n",
        "    df = df.withColumn(\"ServiceCost\", col(\"ServiceCost\").cast(\"double\")) \\\n",
        "           .withColumn(\"Mileage\", col(\"Mileage\").cast(\"int\"))\n",
        "\n",
        "\n",
        "    df.write.format(\"delta\").mode(\"overwrite\").save(\"/delta/vehicle_maintenance\")\n",
        "except Exception as e:\n",
        "    print(f\"Error reading the file: {e}\")\n",
        "\n",
        "\n",
        "import os\n",
        "\n",
        "if not os.path.exists(file_path):\n",
        "    print(\"File not found.\")\n",
        "\n",
        "import logging\n",
        "\n",
        "logging.basicConfig(filename=\"dbfs:/logs/ingestion_log.log\", level=logging.ERROR)\n",
        "\n",
        "try:\n",
        "    df = spark.read.option(\"header\", \"true\").csv(file_path)\n",
        "except Exception as e:\n",
        "    logging.error(f\"Error ingesting file: {e}\")\n"
      ]
    },
    {
      "cell_type": "code",
      "source": [
        "# Task 2: Data Cleaning\n",
        "df_cleaned = df.filter((col(\"ServiceCost\") > 0) & (col(\"Mileage\") > 0))\n",
        "df_cleaned = df_cleaned.dropDuplicates([\"VehicleID\", \"Date\"])\n",
        "df_cleaned.write.format(\"delta\").mode(\"overwrite\").save(\"/delta/vehicle_maintenance_cleaned\")\n"
      ],
      "metadata": {
        "id": "JLJqmbkGTaJT"
      },
      "execution_count": null,
      "outputs": []
    },
    {
      "cell_type": "code",
      "source": [
        "# Task 3: Vehicle Maintenance Analysis\n",
        "total_cost_df = df_cleaned.groupBy(\"VehicleID\").sum(\"ServiceCost\").withColumnRenamed(\"sum(ServiceCost)\", \"TotalServiceCost\")\n",
        "high_mileage_df = df_cleaned.filter(col(\"Mileage\") > 30000)\n",
        "total_cost_df.write.format(\"delta\").mode(\"overwrite\").save(\"/delta/vehicle_maintenance_total_cost\")\n",
        "high_mileage_df.write.format(\"delta\").mode(\"overwrite\").save(\"/delta/vehicle_high_mileage\")\n"
      ],
      "metadata": {
        "id": "fcFkLbBoTdfv"
      },
      "execution_count": null,
      "outputs": []
    },
    {
      "cell_type": "code",
      "source": [
        "# Task 5: Data Governance with Delta Lake\n",
        "spark.sql(\"VACUUM '/delta/vehicle_maintenance_cleaned' RETAIN 0 HOURS\")\n",
        "spark.sql(\"DESCRIBE HISTORY '/delta/vehicle_maintenance_cleaned'\")\n"
      ],
      "metadata": {
        "id": "kJB6_SRNThC9"
      },
      "execution_count": null,
      "outputs": []
    }
  ]
}