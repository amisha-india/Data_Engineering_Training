{
  "cells": [
    {
      "cell_type": "code",
      "execution_count": null,
      "metadata": {
        "colab": {
          "background_save": true,
          "base_uri": "https://localhost:8080/"
        },
        "id": "NJ_QUcGBZjzX",
        "outputId": "35333570-b603-4ca9-e219-767d61c07bf7"
      },
      "outputs": [
        {
          "name": "stdout",
          "output_type": "stream",
          "text": [
            "Collecting pyspark\n",
            "  Downloading pyspark-3.5.2.tar.gz (317.3 MB)\n",
            "\u001b[2K     \u001b[90m━━━━━━━━━━━━━━━━━━━━━━━━━━━━━━━━━━━━━━━━\u001b[0m \u001b[32m317.3/317.3 MB\u001b[0m \u001b[31m4.5 MB/s\u001b[0m eta \u001b[36m0:00:00\u001b[0m\n",
            "\u001b[?25h  Preparing metadata (setup.py) ... \u001b[?25l\u001b[?25hdone\n",
            "Requirement already satisfied: py4j==0.10.9.7 in /usr/local/lib/python3.10/dist-packages (from pyspark) (0.10.9.7)\n",
            "Building wheels for collected packages: pyspark\n",
            "  Building wheel for pyspark (setup.py) ... \u001b[?25l\u001b[?25hdone\n",
            "  Created wheel for pyspark: filename=pyspark-3.5.2-py2.py3-none-any.whl size=317812365 sha256=4707528b9702c31345b2566ecddca6cab2784f01d7ee6d3007b78dd70108b737\n",
            "  Stored in directory: /root/.cache/pip/wheels/34/34/bd/03944534c44b677cd5859f248090daa9fb27b3c8f8e5f49574\n",
            "Successfully built pyspark\n",
            "Installing collected packages: pyspark\n",
            "Successfully installed pyspark-3.5.2\n"
          ]
        }
      ],
      "source": [
        "!pip install pyspark"
      ]
    },
    {
      "cell_type": "code",
      "execution_count": null,
      "metadata": {
        "id": "z99XWHqDZp7W"
      },
      "outputs": [],
      "source": [
        "# Exercise 3: Delta Lake - History, Time Travel, and Vacuum\n",
        "# 1. View Delta Table History\n",
        "history_df = spark.sql(\"DESCRIBE HISTORY delta.`/content/sample_data/delta/final_transactions`\")\n",
        "history_df.show(truncate=False)"
      ]
    },
    {
      "cell_type": "code",
      "execution_count": null,
      "metadata": {
        "id": "VzlOzZ5nZvCf"
      },
      "outputs": [],
      "source": [
        "# 2. Perform Time Travel\n",
        "time_travel_df = spark.read.format(\"delta\").option(\"versionAsOf\", 5).load(\"/content/sample_data/delta/final_transactions\")\n",
        "time_travel_df.show()\n"
      ]
    },
    {
      "cell_type": "code",
      "source": [
        "# 3. Vacuum the Delta Table\n",
        "\n",
        "spark.sql(\"VACUUM delta.`/path/to/delta/table` RETAIN 168 HOURS\")\n",
        "\n",
        "# Check the current state of the table\n",
        "current_state_df = spark.read.format(\"delta\").load(\"/content/sample_data/delta/final_transactions\")\n",
        "current_state_df.show()"
      ],
      "metadata": {
        "id": "v1MzqIrTayWc"
      },
      "execution_count": null,
      "outputs": []
    },
    {
      "cell_type": "code",
      "source": [
        "# 4. Converting Parquet Files to Delta Files\n",
        "# Step 1: Create a Parquet Table from Raw Transactions CSV:\n",
        "csv_df = spark.read.csv(\"/content/sample_data/final_transactions\", header=True, inferSchema=True)\n",
        "csv_df.write.parquet(\"/content/sample_data/parquet/table\")\n",
        "\n",
        "# Step 2: Convert Parquet to Delta:\n",
        "parquet_df = spark.read.parquet(\"/content/sample_data/parquet/table\")\n",
        "parquet_df.write.format(\"delta\").mode(\"overwrite\").save(\"/content/sample_data/delta/table\")"
      ],
      "metadata": {
        "id": "noPXe0PBa0Wr"
      },
      "execution_count": null,
      "outputs": []
    }
  ],
  "metadata": {
    "colab": {
      "provenance": []
    },
    "kernelspec": {
      "display_name": "Python 3",
      "name": "python3"
    },
    "language_info": {
      "name": "python"
    }
  },
  "nbformat": 4,
  "nbformat_minor": 0
}