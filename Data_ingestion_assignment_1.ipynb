{
  "nbformat": 4,
  "nbformat_minor": 0,
  "metadata": {
    "colab": {
      "provenance": []
    },
    "kernelspec": {
      "name": "python3",
      "display_name": "Python 3"
    },
    "language_info": {
      "name": "python"
    }
  },
  "cells": [
    {
      "cell_type": "code",
      "execution_count": 1,
      "metadata": {
        "colab": {
          "base_uri": "https://localhost:8080/"
        },
        "id": "5n722rZn6k82",
        "outputId": "f5505bac-ad08-43f0-f6e9-7effbea35e46"
      },
      "outputs": [
        {
          "output_type": "stream",
          "name": "stdout",
          "text": [
            "Collecting pyspark\n",
            "  Downloading pyspark-3.5.2.tar.gz (317.3 MB)\n",
            "\u001b[2K     \u001b[90m━━━━━━━━━━━━━━━━━━━━━━━━━━━━━━━━━━━━━━━━\u001b[0m \u001b[32m317.3/317.3 MB\u001b[0m \u001b[31m4.2 MB/s\u001b[0m eta \u001b[36m0:00:00\u001b[0m\n",
            "\u001b[?25h  Preparing metadata (setup.py) ... \u001b[?25l\u001b[?25hdone\n",
            "Requirement already satisfied: py4j==0.10.9.7 in /usr/local/lib/python3.10/dist-packages (from pyspark) (0.10.9.7)\n",
            "Building wheels for collected packages: pyspark\n",
            "  Building wheel for pyspark (setup.py) ... \u001b[?25l\u001b[?25hdone\n",
            "  Created wheel for pyspark: filename=pyspark-3.5.2-py2.py3-none-any.whl size=317812365 sha256=6ebc0c260ecceaec2885415502392a6ecb64fe41622cc593f0d07434986c53f0\n",
            "  Stored in directory: /root/.cache/pip/wheels/34/34/bd/03944534c44b677cd5859f248090daa9fb27b3c8f8e5f49574\n",
            "Successfully built pyspark\n",
            "Installing collected packages: pyspark\n",
            "Successfully installed pyspark-3.5.2\n"
          ]
        }
      ],
      "source": [
        "#Task 1 - Raw Data Ingestion\n",
        "!pip install pyspark"
      ]
    },
    {
      "cell_type": "code",
      "source": [
        "from pyspark.sql import SparkSession\n",
        "from pyspark.sql.functions import input_file_name\n",
        "from pyspark.sql.types import StructType, StructField, StringType, FloatType, DateType\n",
        "import os\n",
        "\n",
        "spark = SparkSession.builder.appName(\"WeatherDataIngestion\").getOrCreate()\n",
        "\n",
        "schema = StructType([\n",
        "    StructField(\"City\", StringType(), True),\n",
        "    StructField(\"Date\", DateType(), True),\n",
        "    StructField(\"Temperature\", FloatType(), True),\n",
        "    StructField(\"Humidity\", FloatType(), True)\n",
        "])\n",
        "# Define path to the raw data\n",
        "raw_data_path = \"/content/sample_data/weather_data.csv\"\n",
        "delta_table_path = \"/content/samplw_data/delta/weather_raw\"\n",
        "\n",
        "weather_df = spark.read.csv(raw_data_path, schema=schema, header=True).withColumn(\"file_name\", input_file_name())\n",
        "\n",
        "if os.path.exists(raw_data_path):\n",
        "    try:\n",
        "\n",
        "        weather_df = spark.read.csv(raw_data_path, schema=schema, header=True)\n",
        "\n",
        "        weather_df.write.format(\"delta\").mode(\"overwrite\").save(delta_table_path)\n",
        "        print(\"Data loaded and saved as Delta table.\")\n",
        "    except Exception as e:\n",
        "        print(f\"Error: {e}\")\n",
        "else:\n",
        "    print(f\"File not found: {raw_data_path}\")"
      ],
      "metadata": {
        "id": "vcF4etGoAJ2S"
      },
      "execution_count": null,
      "outputs": []
    },
    {
      "cell_type": "code",
      "source": [
        "#Task 2 - Data Cleaning\n",
        "from pyspark.sql import SparkSession\n",
        "\n",
        "spark = SparkSession.builder.appName(\"WeatherDataCleaning\").getOrCreate()\n",
        "\n",
        "\n",
        "raw_delta_table_path = \"/content/sample_data/delta/weather_raw\"\n",
        "cleaned_delta_table_path = \"/content/sample_data/delta/weather_cleaned\"\n",
        "\n",
        "raw_weather_df = spark.read.format(\"delta\").load(raw_delta_table_path)\n",
        "raw_weather_df.show()\n",
        "\n",
        "cleaned_weather_df = raw_weather_df.na.drop()\n",
        "cleaned_weather_df.show()\n",
        "\n",
        "cleaned_weather_df.write.format(\"delta\").mode(\"overwrite\").save(cleaned_delta_table_path)\n",
        "print(\"Data cleaned and saved to a new Delta table.\")\n"
      ],
      "metadata": {
        "id": "d9dNjP0-AYq7"
      },
      "execution_count": null,
      "outputs": []
    },
    {
      "cell_type": "code",
      "source": [
        "#Task 3: Data Transformation\n",
        "from pyspark.sql import SparkSession\n",
        "from pyspark.sql.functions import avg\n",
        "\n",
        "spark = SparkSession.builder.appName(\"WeatherDataTransformation\").getOrCreate()\n",
        "\n",
        "raw_delta_table_path = \"/content/sample_data/delta/weather_raw\"\n",
        "cleaned_delta_table_path = \"/content/sample_data/delta/weather_cleaned\"\n",
        "\n",
        "\n",
        "cleaned_weather_df = spark.read.format(\"delta\").load(cleaned_delta_table_path)\n",
        "cleaned_weather_df.show()\n",
        "\n",
        "transformed_weather_df = cleaned_weather_df.groupBy(\"City\").agg(\n",
        "    avg(\"Temperature\").alias(\"AvgTemperature\"),\n",
        "    avg(\"Humidity\").alias(\"AvgHumidity\")\n",
        ")\n",
        "\n",
        "transformed_weather_df.show()\n",
        "\n",
        "transformed_weather_df.write.format(\"delta\").mode(\"overwrite\").save(transformed_delta_table_path)\n",
        "print(\"Data transformed and saved to a new Delta table.\")\n"
      ],
      "metadata": {
        "id": "FApiszgSAn43"
      },
      "execution_count": null,
      "outputs": []
    },
    {
      "cell_type": "code",
      "source": [
        "#Task-4 Creating Pipelines\n",
        "# 2. Add Logging to track progress and errors\n",
        "import logging\n",
        "logging.basicConfig(filename='/path/to/pipeline_log.log', level=logging.INFO)\n",
        "\n",
        "try:\n",
        "  logging.info(f'Successfully executed {notebook}')\n",
        "\n",
        "except Exception as e:\n",
        "  logging.error(f'Failed to execute {notebook}: {e}')\n"
      ],
      "metadata": {
        "id": "BjX5Q3BLA2ze"
      },
      "execution_count": null,
      "outputs": []
    },
    {
      "cell_type": "code",
      "source": [
        "#Error Handling\n",
        "import os\n",
        "if not os.path.exists(\"dbfs:/FileStore/weather_data.csv\"):\n",
        " raise FileNotFoundError(\"Weather data file not found\")\n",
        "\n",
        "\n",
        "try\n",
        "except Exception as e:\n",
        "  logging.error(f\"Error: {str(e)}\")\n",
        "  error_df = spark.createDataFrame([(str(e),)], [\"Error\"])\n",
        "  error_df.write.format(\"delta\").mode(\"append\").save(\"/delta/error_log\")\n",
        "\n"
      ],
      "metadata": {
        "id": "UiKnWYldA-w7"
      },
      "execution_count": null,
      "outputs": []
    }
  ]
}